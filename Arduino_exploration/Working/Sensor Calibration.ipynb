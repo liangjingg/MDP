{
 "cells": [
  {
   "cell_type": "code",
   "execution_count": 179,
   "metadata": {},
   "outputs": [],
   "source": [
    "import pandas as pd\n",
    "\n",
    "pd.set_option('display.max_columns', None)\n",
    "pd.set_option(\"max_rows\", None)\n",
    "\n",
    "%matplotlib inline\n",
    "import matplotlib.pyplot as plt\n",
    "plt.style.use('seaborn-whitegrid')\n",
    "import numpy as np"
   ]
  },
  {
   "cell_type": "code",
   "execution_count": 183,
   "metadata": {},
   "outputs": [],
   "source": [
    "#a02 has range 20 - 150\n",
    "#a21 has range 10 - 80"
   ]
  },
  {
   "cell_type": "code",
   "execution_count": 182,
   "metadata": {},
   "outputs": [],
   "source": [
    "df = pd.read_excel(r'sensor123456.xlsx')\n",
    "df['voltage'] = df['Va2d'] *0.0049\n",
    "df['type'] = 'a21'\n",
    "a21 = [1,2,5,6]\n",
    "a02 = [3,4]\n",
    "for i in range(len(df)):\n",
    "    if df.loc[i,'sensor'] in a02: \n",
    "        df.loc[i, 'type'] = 'a02'"
   ]
  },
  {
   "cell_type": "code",
   "execution_count": 278,
   "metadata": {},
   "outputs": [],
   "source": [
    "sensor = pd.read_excel(r'median.xlsx')\n",
    "sensor['type'] = 'a21'\n",
    "for i in range(len(sensor)):\n",
    "    if sensor.loc[i,'sensor'] in a02: \n",
    "        sensor.loc[i, 'type'] = 'a02'"
   ]
  },
  {
   "cell_type": "code",
   "execution_count": 279,
   "metadata": {},
   "outputs": [
    {
     "data": {
      "text/html": [
       "<div>\n",
       "<style scoped>\n",
       "    .dataframe tbody tr th:only-of-type {\n",
       "        vertical-align: middle;\n",
       "    }\n",
       "\n",
       "    .dataframe tbody tr th {\n",
       "        vertical-align: top;\n",
       "    }\n",
       "\n",
       "    .dataframe thead th {\n",
       "        text-align: right;\n",
       "    }\n",
       "</style>\n",
       "<table border=\"1\" class=\"dataframe\">\n",
       "  <thead>\n",
       "    <tr style=\"text-align: right;\">\n",
       "      <th></th>\n",
       "      <th>distance</th>\n",
       "      <th>a2d</th>\n",
       "      <th>sensor</th>\n",
       "      <th>type</th>\n",
       "    </tr>\n",
       "  </thead>\n",
       "  <tbody>\n",
       "    <tr>\n",
       "      <td>0</td>\n",
       "      <td>5</td>\n",
       "      <td>232</td>\n",
       "      <td>3</td>\n",
       "      <td>a02</td>\n",
       "    </tr>\n",
       "    <tr>\n",
       "      <td>1</td>\n",
       "      <td>10</td>\n",
       "      <td>477</td>\n",
       "      <td>3</td>\n",
       "      <td>a02</td>\n",
       "    </tr>\n",
       "    <tr>\n",
       "      <td>2</td>\n",
       "      <td>15</td>\n",
       "      <td>537</td>\n",
       "      <td>3</td>\n",
       "      <td>a02</td>\n",
       "    </tr>\n",
       "    <tr>\n",
       "      <td>3</td>\n",
       "      <td>20</td>\n",
       "      <td>511</td>\n",
       "      <td>3</td>\n",
       "      <td>a02</td>\n",
       "    </tr>\n",
       "    <tr>\n",
       "      <td>4</td>\n",
       "      <td>25</td>\n",
       "      <td>454</td>\n",
       "      <td>3</td>\n",
       "      <td>a02</td>\n",
       "    </tr>\n",
       "  </tbody>\n",
       "</table>\n",
       "</div>"
      ],
      "text/plain": [
       "   distance   a2d  sensor type\n",
       "0          5  232       3  a02\n",
       "1         10  477       3  a02\n",
       "2         15  537       3  a02\n",
       "3         20  511       3  a02\n",
       "4         25  454       3  a02"
      ]
     },
     "execution_count": 279,
     "metadata": {},
     "output_type": "execute_result"
    }
   ],
   "source": [
    "sensor.head()"
   ]
  },
  {
   "cell_type": "code",
   "execution_count": 281,
   "metadata": {},
   "outputs": [
    {
     "data": {
      "text/plain": [
       "array([3, 5, 4, 6, 1, 2], dtype=int64)"
      ]
     },
     "execution_count": 281,
     "metadata": {},
     "output_type": "execute_result"
    }
   ],
   "source": [
    "sensor.sensor.unique()"
   ]
  },
  {
   "cell_type": "markdown",
   "metadata": {},
   "source": [
    "### Median"
   ]
  },
  {
   "cell_type": "code",
   "execution_count": 282,
   "metadata": {},
   "outputs": [],
   "source": [
    "s3 = sensor[sensor.sensor == 3].iloc[3:]\n",
    "s4 = sensor[sensor.sensor == 4].iloc[3:]\n",
    "s1 = sensor[sensor.sensor == 1].iloc[1:-8]\n",
    "s2 = sensor[sensor.sensor == 2].iloc[1:-8]\n",
    "s5 = sensor[sensor.sensor == 5].iloc[1:-8]\n",
    "s6 = sensor[sensor.sensor == 6].iloc[1:-8]"
   ]
  },
  {
   "cell_type": "code",
   "execution_count": 283,
   "metadata": {},
   "outputs": [
    {
     "data": {
      "text/html": [
       "<div>\n",
       "<style scoped>\n",
       "    .dataframe tbody tr th:only-of-type {\n",
       "        vertical-align: middle;\n",
       "    }\n",
       "\n",
       "    .dataframe tbody tr th {\n",
       "        vertical-align: top;\n",
       "    }\n",
       "\n",
       "    .dataframe thead th {\n",
       "        text-align: right;\n",
       "    }\n",
       "</style>\n",
       "<table border=\"1\" class=\"dataframe\">\n",
       "  <thead>\n",
       "    <tr style=\"text-align: right;\">\n",
       "      <th></th>\n",
       "      <th>distance</th>\n",
       "      <th>a2d</th>\n",
       "      <th>sensor</th>\n",
       "      <th>type</th>\n",
       "    </tr>\n",
       "  </thead>\n",
       "  <tbody>\n",
       "    <tr>\n",
       "      <td>3</td>\n",
       "      <td>20</td>\n",
       "      <td>511</td>\n",
       "      <td>3</td>\n",
       "      <td>a02</td>\n",
       "    </tr>\n",
       "    <tr>\n",
       "      <td>4</td>\n",
       "      <td>25</td>\n",
       "      <td>454</td>\n",
       "      <td>3</td>\n",
       "      <td>a02</td>\n",
       "    </tr>\n",
       "    <tr>\n",
       "      <td>5</td>\n",
       "      <td>30</td>\n",
       "      <td>378</td>\n",
       "      <td>3</td>\n",
       "      <td>a02</td>\n",
       "    </tr>\n",
       "    <tr>\n",
       "      <td>6</td>\n",
       "      <td>35</td>\n",
       "      <td>323</td>\n",
       "      <td>3</td>\n",
       "      <td>a02</td>\n",
       "    </tr>\n",
       "    <tr>\n",
       "      <td>7</td>\n",
       "      <td>40</td>\n",
       "      <td>290</td>\n",
       "      <td>3</td>\n",
       "      <td>a02</td>\n",
       "    </tr>\n",
       "    <tr>\n",
       "      <td>8</td>\n",
       "      <td>45</td>\n",
       "      <td>272</td>\n",
       "      <td>3</td>\n",
       "      <td>a02</td>\n",
       "    </tr>\n",
       "    <tr>\n",
       "      <td>9</td>\n",
       "      <td>50</td>\n",
       "      <td>254</td>\n",
       "      <td>3</td>\n",
       "      <td>a02</td>\n",
       "    </tr>\n",
       "    <tr>\n",
       "      <td>10</td>\n",
       "      <td>55</td>\n",
       "      <td>237</td>\n",
       "      <td>3</td>\n",
       "      <td>a02</td>\n",
       "    </tr>\n",
       "    <tr>\n",
       "      <td>11</td>\n",
       "      <td>60</td>\n",
       "      <td>228</td>\n",
       "      <td>3</td>\n",
       "      <td>a02</td>\n",
       "    </tr>\n",
       "    <tr>\n",
       "      <td>12</td>\n",
       "      <td>65</td>\n",
       "      <td>224</td>\n",
       "      <td>3</td>\n",
       "      <td>a02</td>\n",
       "    </tr>\n",
       "    <tr>\n",
       "      <td>13</td>\n",
       "      <td>70</td>\n",
       "      <td>207</td>\n",
       "      <td>3</td>\n",
       "      <td>a02</td>\n",
       "    </tr>\n",
       "    <tr>\n",
       "      <td>14</td>\n",
       "      <td>75</td>\n",
       "      <td>204</td>\n",
       "      <td>3</td>\n",
       "      <td>a02</td>\n",
       "    </tr>\n",
       "    <tr>\n",
       "      <td>15</td>\n",
       "      <td>80</td>\n",
       "      <td>207</td>\n",
       "      <td>3</td>\n",
       "      <td>a02</td>\n",
       "    </tr>\n",
       "  </tbody>\n",
       "</table>\n",
       "</div>"
      ],
      "text/plain": [
       "    distance   a2d  sensor type\n",
       "3          20  511       3  a02\n",
       "4          25  454       3  a02\n",
       "5          30  378       3  a02\n",
       "6          35  323       3  a02\n",
       "7          40  290       3  a02\n",
       "8          45  272       3  a02\n",
       "9          50  254       3  a02\n",
       "10         55  237       3  a02\n",
       "11         60  228       3  a02\n",
       "12         65  224       3  a02\n",
       "13         70  207       3  a02\n",
       "14         75  204       3  a02\n",
       "15         80  207       3  a02"
      ]
     },
     "execution_count": 283,
     "metadata": {},
     "output_type": "execute_result"
    }
   ],
   "source": [
    "s3"
   ]
  },
  {
   "cell_type": "code",
   "execution_count": 284,
   "metadata": {},
   "outputs": [
    {
     "data": {
      "text/html": [
       "<div>\n",
       "<style scoped>\n",
       "    .dataframe tbody tr th:only-of-type {\n",
       "        vertical-align: middle;\n",
       "    }\n",
       "\n",
       "    .dataframe tbody tr th {\n",
       "        vertical-align: top;\n",
       "    }\n",
       "\n",
       "    .dataframe thead th {\n",
       "        text-align: right;\n",
       "    }\n",
       "</style>\n",
       "<table border=\"1\" class=\"dataframe\">\n",
       "  <thead>\n",
       "    <tr style=\"text-align: right;\">\n",
       "      <th></th>\n",
       "      <th>distance</th>\n",
       "      <th>a2d</th>\n",
       "      <th>sensor</th>\n",
       "      <th>type</th>\n",
       "    </tr>\n",
       "  </thead>\n",
       "  <tbody>\n",
       "    <tr>\n",
       "      <td>65</td>\n",
       "      <td>10</td>\n",
       "      <td>528</td>\n",
       "      <td>1</td>\n",
       "      <td>a21</td>\n",
       "    </tr>\n",
       "    <tr>\n",
       "      <td>66</td>\n",
       "      <td>15</td>\n",
       "      <td>380</td>\n",
       "      <td>1</td>\n",
       "      <td>a21</td>\n",
       "    </tr>\n",
       "    <tr>\n",
       "      <td>67</td>\n",
       "      <td>20</td>\n",
       "      <td>307</td>\n",
       "      <td>1</td>\n",
       "      <td>a21</td>\n",
       "    </tr>\n",
       "    <tr>\n",
       "      <td>68</td>\n",
       "      <td>25</td>\n",
       "      <td>259</td>\n",
       "      <td>1</td>\n",
       "      <td>a21</td>\n",
       "    </tr>\n",
       "    <tr>\n",
       "      <td>69</td>\n",
       "      <td>30</td>\n",
       "      <td>241</td>\n",
       "      <td>1</td>\n",
       "      <td>a21</td>\n",
       "    </tr>\n",
       "    <tr>\n",
       "      <td>70</td>\n",
       "      <td>35</td>\n",
       "      <td>225</td>\n",
       "      <td>1</td>\n",
       "      <td>a21</td>\n",
       "    </tr>\n",
       "    <tr>\n",
       "      <td>71</td>\n",
       "      <td>40</td>\n",
       "      <td>205</td>\n",
       "      <td>1</td>\n",
       "      <td>a21</td>\n",
       "    </tr>\n",
       "  </tbody>\n",
       "</table>\n",
       "</div>"
      ],
      "text/plain": [
       "    distance   a2d  sensor type\n",
       "65         10  528       1  a21\n",
       "66         15  380       1  a21\n",
       "67         20  307       1  a21\n",
       "68         25  259       1  a21\n",
       "69         30  241       1  a21\n",
       "70         35  225       1  a21\n",
       "71         40  205       1  a21"
      ]
     },
     "execution_count": 284,
     "metadata": {},
     "output_type": "execute_result"
    }
   ],
   "source": [
    "s1"
   ]
  },
  {
   "cell_type": "code",
   "execution_count": 221,
   "metadata": {},
   "outputs": [
    {
     "data": {
      "text/plain": [
       "[<matplotlib.lines.Line2D at 0x2ae88d5f1c8>]"
      ]
     },
     "execution_count": 221,
     "metadata": {},
     "output_type": "execute_result"
    },
    {
     "data": {
      "image/png": "[encoded data removed]",
      "text/plain": [
       "<Figure size 432x288 with 1 Axes>"
      ]
     },
     "metadata": {},
     "output_type": "display_data"
    }
   ],
   "source": [
    "#long range\n",
    "x = sensor[sensor.sensor == 3]['distance ']\n",
    "y3 = sensor[sensor.sensor == 3]['a2d']\n",
    "plt.plot(x, y3, 'o')\n",
    "\n",
    "y4 = sensor[sensor.sensor == 4]['a2d']\n",
    "plt.plot(x, y4, 'o')"
   ]
  },
  {
   "cell_type": "code",
   "execution_count": 252,
   "metadata": {},
   "outputs": [
    {
     "data": {
      "text/plain": [
       "[<matplotlib.lines.Line2D at 0x2ae8c14a848>]"
      ]
     },
     "execution_count": 252,
     "metadata": {},
     "output_type": "execute_result"
    },
    {
     "data": {
      "image/png": "[encoded data removed]",
      "text/plain": [
       "<Figure size 432x288 with 1 Axes>"
      ]
     },
     "metadata": {},
     "output_type": "display_data"
    }
   ],
   "source": [
    "k = 0\n",
    "inverse = 1/(s3[s3.sensor == 3]['distance '] + k)\n",
    "y = s3[s3.sensor == 3]['a2d']\n",
    "plt.plot(y , inverse, 'o')\n",
    "\n",
    "m, q = np.polyfit(y, inverse, 1)\n",
    "plt.plot(y, m*y + q)"
   ]
  },
  {
   "cell_type": "code",
   "execution_count": 240,
   "metadata": {},
   "outputs": [
    {
     "name": "stdout",
     "output_type": "stream",
     "text": [
      "m:  0.00011434038760218756 \t q:  -0.009519738203504342\n"
     ]
    }
   ],
   "source": [
    "print(\"m: \", m, \"\\t q: \", q)"
   ]
  },
  {
   "cell_type": "code",
   "execution_count": 253,
   "metadata": {},
   "outputs": [
    {
     "data": {
      "text/plain": [
       "[<matplotlib.lines.Line2D at 0x2ae8c1be608>]"
      ]
     },
     "execution_count": 253,
     "metadata": {},
     "output_type": "execute_result"
    },
    {
     "data": {
      "image/png": "[encoded data removed]",
      "text/plain": [
       "<Figure size 432x288 with 1 Axes>"
      ]
     },
     "metadata": {},
     "output_type": "display_data"
    }
   ],
   "source": [
    "k = 0\n",
    "inverse = 1/(s4['distance '] + k)\n",
    "y = s4['a2d']\n",
    "plt.plot(y , inverse, 'o')\n",
    "\n",
    "m, q = np.polyfit(y, inverse, 1)\n",
    "plt.plot(y, m*y + q)"
   ]
  },
  {
   "cell_type": "code",
   "execution_count": 254,
   "metadata": {
    "scrolled": true
   },
   "outputs": [
    {
     "name": "stdout",
     "output_type": "stream",
     "text": [
      "m:  0.00011647455531378822 \t q:  -0.00830505186657575\n"
     ]
    }
   ],
   "source": [
    "print(\"m: \", m, \"\\t q: \", q)"
   ]
  },
  {
   "cell_type": "markdown",
   "metadata": {},
   "source": [
    "### Short Range Sensor"
   ]
  },
  {
   "cell_type": "code",
   "execution_count": 290,
   "metadata": {},
   "outputs": [
    {
     "data": {
      "text/plain": [
       "[<matplotlib.lines.Line2D at 0x2ae8c717948>]"
      ]
     },
     "execution_count": 290,
     "metadata": {},
     "output_type": "execute_result"
    },
    {
     "data": {
      "image/png": "[encoded data removed]",
      "text/plain": [
       "<Figure size 432x288 with 1 Axes>"
      ]
     },
     "metadata": {},
     "output_type": "display_data"
    }
   ],
   "source": [
    "#short range\n",
    "x = sensor[sensor.sensor == 1]['distance ']\n",
    "\n",
    "#blue\n",
    "y1 = sensor[sensor.sensor == 1]['a2d']\n",
    "plt.plot(x, y1, 'o')\n",
    "\n",
    "#2 actually quite accurate orange\n",
    "y2 = sensor[sensor.sensor == 2]['a2d']\n",
    "plt.plot(x, y2, 'o')\n",
    "\n",
    "#green\n",
    "y5 = sensor[sensor.sensor == 5]['a2d']\n",
    "plt.plot(x, y5, 'o')\n",
    "\n",
    "#red\n",
    "y6 = sensor[sensor.sensor == 6]['a2d']\n",
    "plt.plot(x, y6, 'o')"
   ]
  },
  {
   "cell_type": "code",
   "execution_count": 322,
   "metadata": {},
   "outputs": [],
   "source": [
    "#overall short\n",
    "s1256 = sensor[(sensor.type == 'a21')&(sensor['distance '] >= 10)]"
   ]
  },
  {
   "cell_type": "code",
   "execution_count": 323,
   "metadata": {},
   "outputs": [
    {
     "data": {
      "text/plain": [
       "array([523.75, 379.  , 317.25, 280.75, 262.25, 245.25, 232.75, 233.5 ,\n",
       "       229.25, 227.5 , 222.25, 220.25, 208.5 , 224.5 , 230.5 ])"
      ]
     },
     "execution_count": 323,
     "metadata": {},
     "output_type": "execute_result"
    }
   ],
   "source": [
    "#overall short\n",
    "s1256.groupby(['distance '])['a2d'].mean().values"
   ]
  },
  {
   "cell_type": "code",
   "execution_count": 330,
   "metadata": {},
   "outputs": [
    {
     "data": {
      "text/plain": [
       "[<matplotlib.lines.Line2D at 0x2ae8dc89ec8>]"
      ]
     },
     "execution_count": 330,
     "metadata": {},
     "output_type": "execute_result"
    },
    {
     "data": {
      "image/png": "[encoded data removed]",
      "text/plain": [
       "<Figure size 432x288 with 1 Axes>"
      ]
     },
     "metadata": {},
     "output_type": "display_data"
    }
   ],
   "source": [
    "#overall short\n",
    "x = s1256['distance '].unique()\n",
    "\n",
    "#blue\n",
    "y1256 =  s1256.groupby(['distance '])['a2d'].mean().values\n",
    "plt.plot(x, y1256, 'o')"
   ]
  },
  {
   "cell_type": "code",
   "execution_count": 328,
   "metadata": {},
   "outputs": [
    {
     "data": {
      "text/plain": [
       "[<matplotlib.lines.Line2D at 0x2ae8dc4e188>]"
      ]
     },
     "execution_count": 328,
     "metadata": {},
     "output_type": "execute_result"
    },
    {
     "data": {
      "image/png": "[encoded data removed]",
      "text/plain": [
       "<Figure size 432x288 with 1 Axes>"
      ]
     },
     "metadata": {},
     "output_type": "display_data"
    }
   ],
   "source": [
    "#overall short\n",
    "s1256 = sensor[(sensor.type == 'a21')&(sensor['distance '] >= 10)&(sensor['distance '] <= 40)]\n",
    "k = 0\n",
    "inverse = 1/(s1256['distance '].unique() + k)\n",
    "y = s1256.groupby(['distance '])['a2d'].mean().values\n",
    "plt.plot(y , inverse, 'o')\n",
    "\n",
    "m, q = np.polyfit(y, inverse, 1)\n",
    "plt.plot(y, m*y + q)"
   ]
  },
  {
   "cell_type": "code",
   "execution_count": 329,
   "metadata": {},
   "outputs": [
    {
     "name": "stdout",
     "output_type": "stream",
     "text": [
      "m:  0.0002585644343682335 \t q:  -0.033695924121111845\n"
     ]
    }
   ],
   "source": [
    "#overall short\n",
    "print(\"m: \", m, \"\\t q: \", q)"
   ]
  },
  {
   "cell_type": "code",
   "execution_count": 331,
   "metadata": {},
   "outputs": [
    {
     "data": {
      "text/plain": [
       "array([490.5, 437. , 380. , 329. , 290. , 268.5, 243.5, 228.5, 222. ,\n",
       "       211.5, 199. , 194. , 193. ])"
      ]
     },
     "execution_count": 331,
     "metadata": {},
     "output_type": "execute_result"
    }
   ],
   "source": [
    "#overall long\n",
    "s34 = sensor[(sensor.type == 'a02')&(sensor['distance '] >= 20)]\n",
    "s34.groupby(['distance '])['a2d'].mean().values"
   ]
  },
  {
   "cell_type": "code",
   "execution_count": 332,
   "metadata": {},
   "outputs": [
    {
     "data": {
      "text/plain": [
       "[<matplotlib.lines.Line2D at 0x2ae8ace8588>]"
      ]
     },
     "execution_count": 332,
     "metadata": {},
     "output_type": "execute_result"
    },
    {
     "data": {
      "image/png": "[encoded data removed]",
      "text/plain": [
       "<Figure size 432x288 with 1 Axes>"
      ]
     },
     "metadata": {},
     "output_type": "display_data"
    }
   ],
   "source": [
    "#overall long\n",
    "x = s34['distance '].unique()\n",
    "\n",
    "y34 =  s34.groupby(['distance '])['a2d'].mean().values\n",
    "plt.plot(x, y34, 'o')"
   ]
  },
  {
   "cell_type": "code",
   "execution_count": 335,
   "metadata": {},
   "outputs": [
    {
     "data": {
      "text/plain": [
       "[<matplotlib.lines.Line2D at 0x2ae8c69bcc8>]"
      ]
     },
     "execution_count": 335,
     "metadata": {},
     "output_type": "execute_result"
    },
    {
     "data": {
      "image/png": "[encoded data removed]",
      "text/plain": [
       "<Figure size 432x288 with 1 Axes>"
      ]
     },
     "metadata": {},
     "output_type": "display_data"
    }
   ],
   "source": [
    "#overall long\n",
    "s34 = sensor[(sensor.type == 'a02')&(sensor['distance '] >= 20)&(sensor['distance '] <= 70)]\n",
    "k = 0\n",
    "inverse = 1/(s34['distance '].unique() + k)\n",
    "y = s34.groupby(['distance '])['a2d'].mean().values\n",
    "plt.plot(y , inverse, 'o')\n",
    "\n",
    "m, q = np.polyfit(y, inverse, 1)\n",
    "plt.plot(y, m*y + q)"
   ]
  },
  {
   "cell_type": "code",
   "execution_count": 336,
   "metadata": {},
   "outputs": [
    {
     "name": "stdout",
     "output_type": "stream",
     "text": [
      "m:  0.00011510540548740905 \t q:  -0.008740407887264308\n"
     ]
    }
   ],
   "source": [
    "#overall long\n",
    "print(\"m: \", m, \"\\t q: \", q)"
   ]
  },
  {
   "cell_type": "code",
   "execution_count": 293,
   "metadata": {},
   "outputs": [
    {
     "data": {
      "text/plain": [
       "[<matplotlib.lines.Line2D at 0x2ae8c866fc8>]"
      ]
     },
     "execution_count": 293,
     "metadata": {},
     "output_type": "execute_result"
    },
    {
     "data": {
      "image/png": "[encoded data removed]",
      "text/plain": [
       "<Figure size 432x288 with 1 Axes>"
      ]
     },
     "metadata": {},
     "output_type": "display_data"
    }
   ],
   "source": [
    "#individual\n",
    "k = 0\n",
    "inverse = 1/(s1['distance '] + k)\n",
    "y = s1['a2d']\n",
    "plt.plot(y , inverse, 'o')\n",
    "\n",
    "m, q = np.polyfit(y, inverse, 1)\n",
    "plt.plot(y, m*y + q)"
   ]
  },
  {
   "cell_type": "code",
   "execution_count": 294,
   "metadata": {},
   "outputs": [
    {
     "name": "stdout",
     "output_type": "stream",
     "text": [
      "m:  0.0002328262427036455 \t q:  -0.022262980289698742\n"
     ]
    }
   ],
   "source": [
    "#individual\n",
    "print(\"m: \", m, \"\\t q: \", q)"
   ]
  },
  {
   "cell_type": "code",
   "execution_count": 295,
   "metadata": {},
   "outputs": [
    {
     "data": {
      "text/plain": [
       "[<matplotlib.lines.Line2D at 0x2ae8c8a4e88>]"
      ]
     },
     "execution_count": 295,
     "metadata": {},
     "output_type": "execute_result"
    },
    {
     "data": {
      "image/png": "[encoded data removed]",
      "text/plain": [
       "<Figure size 432x288 with 1 Axes>"
      ]
     },
     "metadata": {},
     "output_type": "display_data"
    }
   ],
   "source": [
    "#individual\n",
    "k = 0\n",
    "inverse = 1/(s2['distance '] + k)\n",
    "y = s2['a2d']\n",
    "plt.plot(y , inverse, 'o')\n",
    "\n",
    "m, q = np.polyfit(y, inverse, 1)\n",
    "plt.plot(y, m*y + q)"
   ]
  },
  {
   "cell_type": "code",
   "execution_count": 296,
   "metadata": {},
   "outputs": [
    {
     "name": "stdout",
     "output_type": "stream",
     "text": [
      "m:  0.00022448273459062005 \t q:  -0.01989870479042789\n"
     ]
    }
   ],
   "source": [
    "#individual\n",
    "print(\"m: \", m, \"\\t q: \", q)"
   ]
  },
  {
   "cell_type": "code",
   "execution_count": 297,
   "metadata": {},
   "outputs": [
    {
     "data": {
      "text/plain": [
       "[<matplotlib.lines.Line2D at 0x2ae8d8cbe88>]"
      ]
     },
     "execution_count": 297,
     "metadata": {},
     "output_type": "execute_result"
    },
    {
     "data": {
      "image/png": "[encoded data removed]",
      "text/plain": [
       "<Figure size 432x288 with 1 Axes>"
      ]
     },
     "metadata": {},
     "output_type": "display_data"
    }
   ],
   "source": [
    "#individual\n",
    "k = 0\n",
    "inverse = 1/(s5['distance '] + k)\n",
    "y = s5['a2d']\n",
    "plt.plot(y , inverse, 'o')\n",
    "\n",
    "m, q = np.polyfit(y, inverse, 1)\n",
    "plt.plot(y, m*y + q)"
   ]
  },
  {
   "cell_type": "code",
   "execution_count": 298,
   "metadata": {},
   "outputs": [
    {
     "name": "stdout",
     "output_type": "stream",
     "text": [
      "m:  0.0002525817148471221 \t q:  -0.03878072101161622\n"
     ]
    }
   ],
   "source": [
    "#individual\n",
    "print(\"m: \", m, \"\\t q: \", q)"
   ]
  },
  {
   "cell_type": "code",
   "execution_count": 299,
   "metadata": {},
   "outputs": [
    {
     "data": {
      "text/plain": [
       "[<matplotlib.lines.Line2D at 0x2ae8d952a08>]"
      ]
     },
     "execution_count": 299,
     "metadata": {},
     "output_type": "execute_result"
    },
    {
     "data": {
      "image/png": "[encoded data removed]",
      "text/plain": [
       "<Figure size 432x288 with 1 Axes>"
      ]
     },
     "metadata": {},
     "output_type": "display_data"
    }
   ],
   "source": [
    "#individual\n",
    "k = 0\n",
    "inverse = 1/(s6['distance '] + k)\n",
    "y = s6['a2d']\n",
    "plt.plot(y , inverse, 'o')\n",
    "\n",
    "m, q = np.polyfit(y, inverse, 1)\n",
    "plt.plot(y, m*y + q)"
   ]
  },
  {
   "cell_type": "code",
   "execution_count": 300,
   "metadata": {},
   "outputs": [
    {
     "name": "stdout",
     "output_type": "stream",
     "text": [
      "m:  0.0003490847611835547 \t q:  -0.06227640616449279\n"
     ]
    }
   ],
   "source": [
    "#individual\n",
    "print(\"m: \", m, \"\\t q: \", q)"
   ]
  },
  {
   "cell_type": "markdown",
   "metadata": {},
   "source": [
    "## Get the calculated range formula"
   ]
  },
  {
   "cell_type": "code",
   "execution_count": 187,
   "metadata": {},
   "outputs": [
    {
     "data": {
      "text/html": [
       "<div>\n",
       "<style scoped>\n",
       "    .dataframe tbody tr th:only-of-type {\n",
       "        vertical-align: middle;\n",
       "    }\n",
       "\n",
       "    .dataframe tbody tr th {\n",
       "        vertical-align: top;\n",
       "    }\n",
       "\n",
       "    .dataframe thead th {\n",
       "        text-align: right;\n",
       "    }\n",
       "</style>\n",
       "<table border=\"1\" class=\"dataframe\">\n",
       "  <thead>\n",
       "    <tr style=\"text-align: right;\">\n",
       "      <th></th>\n",
       "      <th>No</th>\n",
       "      <th>distance</th>\n",
       "      <th>Va2d</th>\n",
       "      <th>sensor</th>\n",
       "      <th>voltage</th>\n",
       "      <th>R</th>\n",
       "      <th>Diff</th>\n",
       "      <th>type</th>\n",
       "      <th>calc_range</th>\n",
       "    </tr>\n",
       "  </thead>\n",
       "  <tbody>\n",
       "    <tr>\n",
       "      <td>0</td>\n",
       "      <td>1</td>\n",
       "      <td>10</td>\n",
       "      <td>543</td>\n",
       "      <td>1</td>\n",
       "      <td>2.6607</td>\n",
       "      <td>11.086877</td>\n",
       "      <td>-1.086877</td>\n",
       "      <td>a21</td>\n",
       "      <td>10.523546</td>\n",
       "    </tr>\n",
       "    <tr>\n",
       "      <td>1</td>\n",
       "      <td>2</td>\n",
       "      <td>10</td>\n",
       "      <td>514</td>\n",
       "      <td>1</td>\n",
       "      <td>2.5186</td>\n",
       "      <td>12.081568</td>\n",
       "      <td>-2.081568</td>\n",
       "      <td>a21</td>\n",
       "      <td>11.117287</td>\n",
       "    </tr>\n",
       "    <tr>\n",
       "      <td>2</td>\n",
       "      <td>3</td>\n",
       "      <td>10</td>\n",
       "      <td>538</td>\n",
       "      <td>1</td>\n",
       "      <td>2.6362</td>\n",
       "      <td>11.248907</td>\n",
       "      <td>-1.248907</td>\n",
       "      <td>a21</td>\n",
       "      <td>10.621349</td>\n",
       "    </tr>\n",
       "    <tr>\n",
       "      <td>3</td>\n",
       "      <td>4</td>\n",
       "      <td>10</td>\n",
       "      <td>538</td>\n",
       "      <td>1</td>\n",
       "      <td>2.6362</td>\n",
       "      <td>11.248907</td>\n",
       "      <td>-1.248907</td>\n",
       "      <td>a21</td>\n",
       "      <td>10.621349</td>\n",
       "    </tr>\n",
       "    <tr>\n",
       "      <td>4</td>\n",
       "      <td>5</td>\n",
       "      <td>10</td>\n",
       "      <td>541</td>\n",
       "      <td>1</td>\n",
       "      <td>2.6509</td>\n",
       "      <td>11.151245</td>\n",
       "      <td>-1.151245</td>\n",
       "      <td>a21</td>\n",
       "      <td>10.562450</td>\n",
       "    </tr>\n",
       "  </tbody>\n",
       "</table>\n",
       "</div>"
      ],
      "text/plain": [
       "   No  distance   Va2d  sensor  voltage          R      Diff type  calc_range\n",
       "0   1         10   543       1   2.6607  11.086877 -1.086877  a21   10.523546\n",
       "1   2         10   514       1   2.5186  12.081568 -2.081568  a21   11.117287\n",
       "2   3         10   538       1   2.6362  11.248907 -1.248907  a21   10.621349\n",
       "3   4         10   538       1   2.6362  11.248907 -1.248907  a21   10.621349\n",
       "4   5         10   541       1   2.6509  11.151245 -1.151245  a21   10.562450"
      ]
     },
     "execution_count": 187,
     "metadata": {},
     "output_type": "execute_result"
    }
   ],
   "source": [
    "df.head()"
   ]
  },
  {
   "cell_type": "code",
   "execution_count": 115,
   "metadata": {
    "scrolled": false
   },
   "outputs": [],
   "source": [
    "x = [10,15,20,25,30,35,40,45,50,55,60,65,70,75,80]\n",
    "\n",
    "a02_mean = df[df.type == 'a02'].groupby(['type','distance '])['reading'].mean().values\n",
    "a21_mean = df[df.type == 'a21'].groupby(['type','distance '])['reading'].mean().values\n",
    "\n",
    "#quantiles\n",
    "\n",
    "a02_q25 = df[df.type == 'a02'].groupby(['type','distance '])['reading'].quantile(.25).values\n",
    "a21_q25 = df[df.type == 'a21'].groupby(['type','distance '])['reading'].quantile(.25).values\n",
    "\n",
    "a02_q50 =df[df.type == 'a02'].groupby(['type','distance '])['reading'].quantile(.50).values\n",
    "a21_q50 =df[df.type == 'a21'].groupby(['type','distance '])['reading'].quantile(.50).values"
   ]
  },
  {
   "cell_type": "code",
   "execution_count": 168,
   "metadata": {},
   "outputs": [],
   "source": [
    "x = a02_mean\n",
    "y = inverse\n",
    "m, q = np.polyfit(x, y, 1)\n",
    "\n",
    "plt.plot(x, y, 'o')\n",
    "plt.plot(x, m*x + q)\n",
    "\n",
    "print(m, q)"
   ]
  },
  {
   "cell_type": "code",
   "execution_count": 173,
   "metadata": {},
   "outputs": [
    {
     "name": "stdout",
     "output_type": "stream",
     "text": [
      "0.00016143987684773324\n"
     ]
    }
   ],
   "source": [
    "print(m)"
   ]
  },
  {
   "cell_type": "code",
   "execution_count": 174,
   "metadata": {},
   "outputs": [
    {
     "name": "stdout",
     "output_type": "stream",
     "text": [
      "-0.016678975257107514\n"
     ]
    }
   ],
   "source": [
    "print(q)"
   ]
  },
  {
   "cell_type": "code",
   "execution_count": 176,
   "metadata": {},
   "outputs": [
    {
     "data": {
      "text/plain": [
       "6194.256459593185"
      ]
     },
     "execution_count": 176,
     "metadata": {},
     "output_type": "execute_result"
    }
   ],
   "source": [
    "1/m"
   ]
  },
  {
   "cell_type": "code",
   "execution_count": 178,
   "metadata": {},
   "outputs": [
    {
     "data": {
      "text/plain": [
       "-103.31385022573313"
      ]
     },
     "execution_count": 178,
     "metadata": {},
     "output_type": "execute_result"
    }
   ],
   "source": [
    "q/m"
   ]
  },
  {
   "cell_type": "code",
   "execution_count": 172,
   "metadata": {},
   "outputs": [
    {
     "data": {
      "text/plain": [
       "[<matplotlib.lines.Line2D at 0x2ae8a60c5c8>]"
      ]
     },
     "execution_count": 172,
     "metadata": {},
     "output_type": "execute_result"
    },
    {
     "data": {
      "image/png": "[encoded data removed]",
      "text/plain": [
       "<Figure size 432x288 with 1 Axes>"
      ]
     },
     "metadata": {
      "needs_background": "light"
     },
     "output_type": "display_data"
    }
   ],
   "source": [
    "plt.plot(x, y, 'o')\n",
    "plt.plot(x, m*x + q)"
   ]
  },
  {
   "cell_type": "code",
   "execution_count": null,
   "metadata": {},
   "outputs": [],
   "source": []
  },
  {
   "cell_type": "code",
   "execution_count": 185,
   "metadata": {},
   "outputs": [],
   "source": [
    "df['calc_range'] = (1/df['voltage'])*28 "
   ]
  },
  {
   "cell_type": "markdown",
   "metadata": {},
   "source": [
    "###### df.head(50)"
   ]
  },
  {
   "cell_type": "code",
   "execution_count": 203,
   "metadata": {},
   "outputs": [
    {
     "data": {
      "text/html": [
       "<div>\n",
       "<style scoped>\n",
       "    .dataframe tbody tr th:only-of-type {\n",
       "        vertical-align: middle;\n",
       "    }\n",
       "\n",
       "    .dataframe tbody tr th {\n",
       "        vertical-align: top;\n",
       "    }\n",
       "\n",
       "    .dataframe thead th {\n",
       "        text-align: right;\n",
       "    }\n",
       "</style>\n",
       "<table border=\"1\" class=\"dataframe\">\n",
       "  <thead>\n",
       "    <tr style=\"text-align: right;\">\n",
       "      <th></th>\n",
       "      <th></th>\n",
       "      <th>distance</th>\n",
       "      <th>R</th>\n",
       "      <th>Diff</th>\n",
       "    </tr>\n",
       "    <tr>\n",
       "      <th>type</th>\n",
       "      <th>distance</th>\n",
       "      <th></th>\n",
       "      <th></th>\n",
       "      <th></th>\n",
       "    </tr>\n",
       "  </thead>\n",
       "  <tbody>\n",
       "    <tr>\n",
       "      <td rowspan=\"15\" valign=\"top\">a02</td>\n",
       "      <td>10</td>\n",
       "      <td>10</td>\n",
       "      <td>12.612614</td>\n",
       "      <td>-2.612614</td>\n",
       "    </tr>\n",
       "    <tr>\n",
       "      <td>15</td>\n",
       "      <td>15</td>\n",
       "      <td>11.235308</td>\n",
       "      <td>3.764692</td>\n",
       "    </tr>\n",
       "    <tr>\n",
       "      <td>20</td>\n",
       "      <td>20</td>\n",
       "      <td>12.683576</td>\n",
       "      <td>7.316424</td>\n",
       "    </tr>\n",
       "    <tr>\n",
       "      <td>25</td>\n",
       "      <td>25</td>\n",
       "      <td>15.633475</td>\n",
       "      <td>9.366525</td>\n",
       "    </tr>\n",
       "    <tr>\n",
       "      <td>30</td>\n",
       "      <td>30</td>\n",
       "      <td>22.041595</td>\n",
       "      <td>7.958405</td>\n",
       "    </tr>\n",
       "    <tr>\n",
       "      <td>35</td>\n",
       "      <td>35</td>\n",
       "      <td>30.202108</td>\n",
       "      <td>4.797892</td>\n",
       "    </tr>\n",
       "    <tr>\n",
       "      <td>40</td>\n",
       "      <td>40</td>\n",
       "      <td>41.531695</td>\n",
       "      <td>-1.531695</td>\n",
       "    </tr>\n",
       "    <tr>\n",
       "      <td>45</td>\n",
       "      <td>45</td>\n",
       "      <td>50.021100</td>\n",
       "      <td>-5.021100</td>\n",
       "    </tr>\n",
       "    <tr>\n",
       "      <td>50</td>\n",
       "      <td>50</td>\n",
       "      <td>59.906982</td>\n",
       "      <td>-9.906982</td>\n",
       "    </tr>\n",
       "    <tr>\n",
       "      <td>55</td>\n",
       "      <td>55</td>\n",
       "      <td>64.813676</td>\n",
       "      <td>-9.813676</td>\n",
       "    </tr>\n",
       "    <tr>\n",
       "      <td>60</td>\n",
       "      <td>60</td>\n",
       "      <td>71.155282</td>\n",
       "      <td>-11.155282</td>\n",
       "    </tr>\n",
       "    <tr>\n",
       "      <td>65</td>\n",
       "      <td>65</td>\n",
       "      <td>53.924075</td>\n",
       "      <td>11.075925</td>\n",
       "    </tr>\n",
       "    <tr>\n",
       "      <td>70</td>\n",
       "      <td>70</td>\n",
       "      <td>115.713808</td>\n",
       "      <td>-45.713808</td>\n",
       "    </tr>\n",
       "    <tr>\n",
       "      <td>75</td>\n",
       "      <td>75</td>\n",
       "      <td>93.129440</td>\n",
       "      <td>-18.129440</td>\n",
       "    </tr>\n",
       "    <tr>\n",
       "      <td>80</td>\n",
       "      <td>80</td>\n",
       "      <td>104.914180</td>\n",
       "      <td>-24.914180</td>\n",
       "    </tr>\n",
       "  </tbody>\n",
       "</table>\n",
       "</div>"
      ],
      "text/plain": [
       "                distance            R       Diff\n",
       "type distance                                   \n",
       "a02  10                10   12.612614  -2.612614\n",
       "     15                15   11.235308   3.764692\n",
       "     20                20   12.683576   7.316424\n",
       "     25                25   15.633475   9.366525\n",
       "     30                30   22.041595   7.958405\n",
       "     35                35   30.202108   4.797892\n",
       "     40                40   41.531695  -1.531695\n",
       "     45                45   50.021100  -5.021100\n",
       "     50                50   59.906982  -9.906982\n",
       "     55                55   64.813676  -9.813676\n",
       "     60                60   71.155282 -11.155282\n",
       "     65                65   53.924075  11.075925\n",
       "     70                70  115.713808 -45.713808\n",
       "     75                75   93.129440 -18.129440\n",
       "     80                80  104.914180 -24.914180"
      ]
     },
     "execution_count": 203,
     "metadata": {},
     "output_type": "execute_result"
    }
   ],
   "source": [
    "df[df.type == 'a02'].groupby(['type','distance '])[['distance ', 'R','Diff']].mean()"
   ]
  },
  {
   "cell_type": "code",
   "execution_count": 204,
   "metadata": {},
   "outputs": [
    {
     "data": {
      "text/html": [
       "<div>\n",
       "<style scoped>\n",
       "    .dataframe tbody tr th:only-of-type {\n",
       "        vertical-align: middle;\n",
       "    }\n",
       "\n",
       "    .dataframe tbody tr th {\n",
       "        vertical-align: top;\n",
       "    }\n",
       "\n",
       "    .dataframe thead th {\n",
       "        text-align: right;\n",
       "    }\n",
       "</style>\n",
       "<table border=\"1\" class=\"dataframe\">\n",
       "  <thead>\n",
       "    <tr style=\"text-align: right;\">\n",
       "      <th></th>\n",
       "      <th></th>\n",
       "      <th>distance</th>\n",
       "      <th>R</th>\n",
       "      <th>Diff</th>\n",
       "    </tr>\n",
       "    <tr>\n",
       "      <th>type</th>\n",
       "      <th>distance</th>\n",
       "      <th></th>\n",
       "      <th></th>\n",
       "      <th></th>\n",
       "    </tr>\n",
       "  </thead>\n",
       "  <tbody>\n",
       "    <tr>\n",
       "      <td rowspan=\"15\" valign=\"top\">a21</td>\n",
       "      <td>10</td>\n",
       "      <td>10</td>\n",
       "      <td>11.468000</td>\n",
       "      <td>-1.468000</td>\n",
       "    </tr>\n",
       "    <tr>\n",
       "      <td>15</td>\n",
       "      <td>15</td>\n",
       "      <td>19.454011</td>\n",
       "      <td>-4.454011</td>\n",
       "    </tr>\n",
       "    <tr>\n",
       "      <td>20</td>\n",
       "      <td>20</td>\n",
       "      <td>26.843399</td>\n",
       "      <td>-6.843399</td>\n",
       "    </tr>\n",
       "    <tr>\n",
       "      <td>25</td>\n",
       "      <td>25</td>\n",
       "      <td>33.022792</td>\n",
       "      <td>-8.022792</td>\n",
       "    </tr>\n",
       "    <tr>\n",
       "      <td>30</td>\n",
       "      <td>30</td>\n",
       "      <td>37.637684</td>\n",
       "      <td>-7.637684</td>\n",
       "    </tr>\n",
       "    <tr>\n",
       "      <td>35</td>\n",
       "      <td>35</td>\n",
       "      <td>37.883097</td>\n",
       "      <td>-2.883097</td>\n",
       "    </tr>\n",
       "    <tr>\n",
       "      <td>40</td>\n",
       "      <td>40</td>\n",
       "      <td>36.799991</td>\n",
       "      <td>3.200009</td>\n",
       "    </tr>\n",
       "    <tr>\n",
       "      <td>45</td>\n",
       "      <td>45</td>\n",
       "      <td>42.732538</td>\n",
       "      <td>2.267462</td>\n",
       "    </tr>\n",
       "    <tr>\n",
       "      <td>50</td>\n",
       "      <td>50</td>\n",
       "      <td>41.282411</td>\n",
       "      <td>8.717589</td>\n",
       "    </tr>\n",
       "    <tr>\n",
       "      <td>55</td>\n",
       "      <td>55</td>\n",
       "      <td>40.736513</td>\n",
       "      <td>14.263487</td>\n",
       "    </tr>\n",
       "    <tr>\n",
       "      <td>60</td>\n",
       "      <td>60</td>\n",
       "      <td>39.428211</td>\n",
       "      <td>20.571789</td>\n",
       "    </tr>\n",
       "    <tr>\n",
       "      <td>65</td>\n",
       "      <td>65</td>\n",
       "      <td>39.641064</td>\n",
       "      <td>25.358936</td>\n",
       "    </tr>\n",
       "    <tr>\n",
       "      <td>70</td>\n",
       "      <td>70</td>\n",
       "      <td>49.215007</td>\n",
       "      <td>20.784993</td>\n",
       "    </tr>\n",
       "    <tr>\n",
       "      <td>75</td>\n",
       "      <td>75</td>\n",
       "      <td>41.921491</td>\n",
       "      <td>33.078509</td>\n",
       "    </tr>\n",
       "    <tr>\n",
       "      <td>80</td>\n",
       "      <td>80</td>\n",
       "      <td>44.128625</td>\n",
       "      <td>35.871375</td>\n",
       "    </tr>\n",
       "  </tbody>\n",
       "</table>\n",
       "</div>"
      ],
      "text/plain": [
       "                distance           R       Diff\n",
       "type distance                                  \n",
       "a21  10                10  11.468000  -1.468000\n",
       "     15                15  19.454011  -4.454011\n",
       "     20                20  26.843399  -6.843399\n",
       "     25                25  33.022792  -8.022792\n",
       "     30                30  37.637684  -7.637684\n",
       "     35                35  37.883097  -2.883097\n",
       "     40                40  36.799991   3.200009\n",
       "     45                45  42.732538   2.267462\n",
       "     50                50  41.282411   8.717589\n",
       "     55                55  40.736513  14.263487\n",
       "     60                60  39.428211  20.571789\n",
       "     65                65  39.641064  25.358936\n",
       "     70                70  49.215007  20.784993\n",
       "     75                75  41.921491  33.078509\n",
       "     80                80  44.128625  35.871375"
      ]
     },
     "execution_count": 204,
     "metadata": {},
     "output_type": "execute_result"
    }
   ],
   "source": [
    "df[df.type == 'a21'].groupby(['type','distance '])[['distance ', 'R','Diff']].mean()"
   ]
  },
  {
   "cell_type": "code",
   "execution_count": 197,
   "metadata": {},
   "outputs": [
    {
     "data": {
      "text/plain": [
       "[<matplotlib.lines.Line2D at 0x2ae8a843e88>]"
      ]
     },
     "execution_count": 197,
     "metadata": {},
     "output_type": "execute_result"
    },
    {
     "data": {
      "image/png": "[encoded data removed]",
      "text/plain": [
       "<Figure size 432x288 with 1 Axes>"
      ]
     },
     "metadata": {},
     "output_type": "display_data"
    }
   ],
   "source": [
    "x = df['distance '].unique()\n",
    "y = df[df.type == 'a02'].groupby(['type','distance '])['Diff'].mean().values\n",
    "plt.plot(x, y, 'o')"
   ]
  },
  {
   "cell_type": "code",
   "execution_count": 119,
   "metadata": {},
   "outputs": [
    {
     "data": {
      "text/html": [
       "<div>\n",
       "<style scoped>\n",
       "    .dataframe tbody tr th:only-of-type {\n",
       "        vertical-align: middle;\n",
       "    }\n",
       "\n",
       "    .dataframe tbody tr th {\n",
       "        vertical-align: top;\n",
       "    }\n",
       "\n",
       "    .dataframe thead th {\n",
       "        text-align: right;\n",
       "    }\n",
       "</style>\n",
       "<table border=\"1\" class=\"dataframe\">\n",
       "  <thead>\n",
       "    <tr style=\"text-align: right;\">\n",
       "      <th></th>\n",
       "      <th></th>\n",
       "      <th>count</th>\n",
       "      <th>mean</th>\n",
       "      <th>std</th>\n",
       "      <th>min</th>\n",
       "      <th>25%</th>\n",
       "      <th>50%</th>\n",
       "      <th>75%</th>\n",
       "      <th>max</th>\n",
       "    </tr>\n",
       "    <tr>\n",
       "      <th>type</th>\n",
       "      <th>distance</th>\n",
       "      <th></th>\n",
       "      <th></th>\n",
       "      <th></th>\n",
       "      <th></th>\n",
       "      <th></th>\n",
       "      <th></th>\n",
       "      <th></th>\n",
       "      <th></th>\n",
       "    </tr>\n",
       "  </thead>\n",
       "  <tbody>\n",
       "    <tr>\n",
       "      <td rowspan=\"15\" valign=\"top\">a02</td>\n",
       "      <td>10</td>\n",
       "      <td>40.0</td>\n",
       "      <td>11.135053</td>\n",
       "      <td>0.183758</td>\n",
       "      <td>10.957167</td>\n",
       "      <td>10.985222</td>\n",
       "      <td>11.006961</td>\n",
       "      <td>11.279917</td>\n",
       "      <td>11.552795</td>\n",
       "    </tr>\n",
       "    <tr>\n",
       "      <td>15</td>\n",
       "      <td>40.0</td>\n",
       "      <td>11.060040</td>\n",
       "      <td>0.075912</td>\n",
       "      <td>10.960384</td>\n",
       "      <td>11.002506</td>\n",
       "      <td>11.013171</td>\n",
       "      <td>11.112290</td>\n",
       "      <td>11.255887</td>\n",
       "    </tr>\n",
       "    <tr>\n",
       "      <td>20</td>\n",
       "      <td>40.0</td>\n",
       "      <td>11.146083</td>\n",
       "      <td>0.060211</td>\n",
       "      <td>11.082251</td>\n",
       "      <td>11.104744</td>\n",
       "      <td>11.114984</td>\n",
       "      <td>11.171561</td>\n",
       "      <td>11.319696</td>\n",
       "    </tr>\n",
       "    <tr>\n",
       "      <td>25</td>\n",
       "      <td>40.0</td>\n",
       "      <td>11.310141</td>\n",
       "      <td>0.075284</td>\n",
       "      <td>11.221001</td>\n",
       "      <td>11.257962</td>\n",
       "      <td>11.267026</td>\n",
       "      <td>11.346127</td>\n",
       "      <td>11.511716</td>\n",
       "    </tr>\n",
       "    <tr>\n",
       "      <td>30</td>\n",
       "      <td>38.0</td>\n",
       "      <td>11.617977</td>\n",
       "      <td>0.211514</td>\n",
       "      <td>11.393728</td>\n",
       "      <td>11.439367</td>\n",
       "      <td>11.525093</td>\n",
       "      <td>11.770654</td>\n",
       "      <td>12.164502</td>\n",
       "    </tr>\n",
       "    <tr>\n",
       "      <td>35</td>\n",
       "      <td>42.0</td>\n",
       "      <td>11.943609</td>\n",
       "      <td>0.312075</td>\n",
       "      <td>11.591723</td>\n",
       "      <td>11.665973</td>\n",
       "      <td>11.812153</td>\n",
       "      <td>12.185219</td>\n",
       "      <td>12.682763</td>\n",
       "    </tr>\n",
       "    <tr>\n",
       "      <td>40</td>\n",
       "      <td>40.0</td>\n",
       "      <td>12.279107</td>\n",
       "      <td>0.477818</td>\n",
       "      <td>11.814059</td>\n",
       "      <td>11.867414</td>\n",
       "      <td>12.049218</td>\n",
       "      <td>12.698611</td>\n",
       "      <td>13.505697</td>\n",
       "    </tr>\n",
       "    <tr>\n",
       "      <td>45</td>\n",
       "      <td>40.0</td>\n",
       "      <td>12.510647</td>\n",
       "      <td>0.484570</td>\n",
       "      <td>12.026342</td>\n",
       "      <td>12.093145</td>\n",
       "      <td>12.233095</td>\n",
       "      <td>12.934532</td>\n",
       "      <td>13.593890</td>\n",
       "    </tr>\n",
       "    <tr>\n",
       "      <td>50</td>\n",
       "      <td>40.0</td>\n",
       "      <td>12.735058</td>\n",
       "      <td>0.488564</td>\n",
       "      <td>12.181025</td>\n",
       "      <td>12.304147</td>\n",
       "      <td>12.554264</td>\n",
       "      <td>13.126850</td>\n",
       "      <td>13.968254</td>\n",
       "    </tr>\n",
       "    <tr>\n",
       "      <td>55</td>\n",
       "      <td>40.0</td>\n",
       "      <td>12.826872</td>\n",
       "      <td>0.514214</td>\n",
       "      <td>11.991040</td>\n",
       "      <td>12.429035</td>\n",
       "      <td>12.753889</td>\n",
       "      <td>13.251391</td>\n",
       "      <td>13.968254</td>\n",
       "    </tr>\n",
       "    <tr>\n",
       "      <td>60</td>\n",
       "      <td>40.0</td>\n",
       "      <td>12.953908</td>\n",
       "      <td>0.493585</td>\n",
       "      <td>12.322880</td>\n",
       "      <td>12.492609</td>\n",
       "      <td>12.886077</td>\n",
       "      <td>13.346602</td>\n",
       "      <td>13.940887</td>\n",
       "    </tr>\n",
       "    <tr>\n",
       "      <td>65</td>\n",
       "      <td>40.0</td>\n",
       "      <td>13.088464</td>\n",
       "      <td>0.730125</td>\n",
       "      <td>12.140182</td>\n",
       "      <td>12.529029</td>\n",
       "      <td>13.122560</td>\n",
       "      <td>13.422101</td>\n",
       "      <td>15.952381</td>\n",
       "    </tr>\n",
       "    <tr>\n",
       "      <td>70</td>\n",
       "      <td>40.0</td>\n",
       "      <td>13.347551</td>\n",
       "      <td>0.664525</td>\n",
       "      <td>12.473717</td>\n",
       "      <td>12.717864</td>\n",
       "      <td>13.293783</td>\n",
       "      <td>13.816695</td>\n",
       "      <td>15.102041</td>\n",
       "    </tr>\n",
       "    <tr>\n",
       "      <td>75</td>\n",
       "      <td>40.0</td>\n",
       "      <td>13.259085</td>\n",
       "      <td>0.547688</td>\n",
       "      <td>12.240896</td>\n",
       "      <td>12.760524</td>\n",
       "      <td>13.055768</td>\n",
       "      <td>13.722781</td>\n",
       "      <td>14.329004</td>\n",
       "    </tr>\n",
       "    <tr>\n",
       "      <td>80</td>\n",
       "      <td>40.0</td>\n",
       "      <td>13.337493</td>\n",
       "      <td>0.570467</td>\n",
       "      <td>12.621232</td>\n",
       "      <td>12.871500</td>\n",
       "      <td>13.246753</td>\n",
       "      <td>13.593890</td>\n",
       "      <td>14.801921</td>\n",
       "    </tr>\n",
       "    <tr>\n",
       "      <td rowspan=\"15\" valign=\"top\">a21</td>\n",
       "      <td>10</td>\n",
       "      <td>80.0</td>\n",
       "      <td>11.074831</td>\n",
       "      <td>0.045322</td>\n",
       "      <td>10.985222</td>\n",
       "      <td>11.044183</td>\n",
       "      <td>11.065113</td>\n",
       "      <td>11.096792</td>\n",
       "      <td>11.255887</td>\n",
       "    </tr>\n",
       "    <tr>\n",
       "      <td>15</td>\n",
       "      <td>80.0</td>\n",
       "      <td>11.505818</td>\n",
       "      <td>0.072154</td>\n",
       "      <td>11.292825</td>\n",
       "      <td>11.461454</td>\n",
       "      <td>11.491981</td>\n",
       "      <td>11.541279</td>\n",
       "      <td>11.814059</td>\n",
       "    </tr>\n",
       "    <tr>\n",
       "      <td>20</td>\n",
       "      <td>80.0</td>\n",
       "      <td>11.831125</td>\n",
       "      <td>0.156657</td>\n",
       "      <td>11.618778</td>\n",
       "      <td>11.730294</td>\n",
       "      <td>11.788513</td>\n",
       "      <td>11.885903</td>\n",
       "      <td>12.452483</td>\n",
       "    </tr>\n",
       "    <tr>\n",
       "      <td>25</td>\n",
       "      <td>80.0</td>\n",
       "      <td>12.043766</td>\n",
       "      <td>0.307961</td>\n",
       "      <td>11.665973</td>\n",
       "      <td>11.843318</td>\n",
       "      <td>11.967198</td>\n",
       "      <td>12.114493</td>\n",
       "      <td>13.228410</td>\n",
       "    </tr>\n",
       "    <tr>\n",
       "      <td>30</td>\n",
       "      <td>78.0</td>\n",
       "      <td>12.196790</td>\n",
       "      <td>0.332076</td>\n",
       "      <td>11.726370</td>\n",
       "      <td>11.928910</td>\n",
       "      <td>12.116431</td>\n",
       "      <td>12.388424</td>\n",
       "      <td>13.341688</td>\n",
       "    </tr>\n",
       "    <tr>\n",
       "      <td>35</td>\n",
       "      <td>82.0</td>\n",
       "      <td>12.213680</td>\n",
       "      <td>0.292317</td>\n",
       "      <td>11.747488</td>\n",
       "      <td>12.042645</td>\n",
       "      <td>12.132196</td>\n",
       "      <td>12.378483</td>\n",
       "      <td>13.284072</td>\n",
       "    </tr>\n",
       "    <tr>\n",
       "      <td>40</td>\n",
       "      <td>80.0</td>\n",
       "      <td>12.172858</td>\n",
       "      <td>0.325410</td>\n",
       "      <td>11.680672</td>\n",
       "      <td>11.915942</td>\n",
       "      <td>12.140182</td>\n",
       "      <td>12.363725</td>\n",
       "      <td>13.039514</td>\n",
       "    </tr>\n",
       "    <tr>\n",
       "      <td>45</td>\n",
       "      <td>80.0</td>\n",
       "      <td>12.292896</td>\n",
       "      <td>0.486295</td>\n",
       "      <td>11.685630</td>\n",
       "      <td>11.982517</td>\n",
       "      <td>12.160418</td>\n",
       "      <td>12.473717</td>\n",
       "      <td>13.968254</td>\n",
       "    </tr>\n",
       "    <tr>\n",
       "      <td>50</td>\n",
       "      <td>80.0</td>\n",
       "      <td>12.291680</td>\n",
       "      <td>0.387567</td>\n",
       "      <td>11.628002</td>\n",
       "      <td>12.039001</td>\n",
       "      <td>12.219148</td>\n",
       "      <td>12.517454</td>\n",
       "      <td>13.887269</td>\n",
       "    </tr>\n",
       "    <tr>\n",
       "      <td>55</td>\n",
       "      <td>80.0</td>\n",
       "      <td>12.253983</td>\n",
       "      <td>0.443080</td>\n",
       "      <td>11.661130</td>\n",
       "      <td>11.937046</td>\n",
       "      <td>12.112555</td>\n",
       "      <td>12.473717</td>\n",
       "      <td>13.968254</td>\n",
       "    </tr>\n",
       "    <tr>\n",
       "      <td>60</td>\n",
       "      <td>80.0</td>\n",
       "      <td>12.250624</td>\n",
       "      <td>0.355412</td>\n",
       "      <td>11.705757</td>\n",
       "      <td>11.996262</td>\n",
       "      <td>12.214873</td>\n",
       "      <td>12.449931</td>\n",
       "      <td>13.265306</td>\n",
       "    </tr>\n",
       "    <tr>\n",
       "      <td>65</td>\n",
       "      <td>80.0</td>\n",
       "      <td>12.236193</td>\n",
       "      <td>0.401368</td>\n",
       "      <td>11.700680</td>\n",
       "      <td>12.013887</td>\n",
       "      <td>12.144205</td>\n",
       "      <td>12.344330</td>\n",
       "      <td>13.759398</td>\n",
       "    </tr>\n",
       "    <tr>\n",
       "      <td>70</td>\n",
       "      <td>80.0</td>\n",
       "      <td>12.427014</td>\n",
       "      <td>0.543930</td>\n",
       "      <td>11.726370</td>\n",
       "      <td>12.046302</td>\n",
       "      <td>12.240896</td>\n",
       "      <td>12.689121</td>\n",
       "      <td>14.464286</td>\n",
       "    </tr>\n",
       "    <tr>\n",
       "      <td>75</td>\n",
       "      <td>80.0</td>\n",
       "      <td>12.240859</td>\n",
       "      <td>0.504548</td>\n",
       "      <td>11.637331</td>\n",
       "      <td>11.884352</td>\n",
       "      <td>12.124299</td>\n",
       "      <td>12.406047</td>\n",
       "      <td>14.499438</td>\n",
       "    </tr>\n",
       "    <tr>\n",
       "      <td>80</td>\n",
       "      <td>80.0</td>\n",
       "      <td>12.331900</td>\n",
       "      <td>0.499175</td>\n",
       "      <td>11.600640</td>\n",
       "      <td>11.967069</td>\n",
       "      <td>12.249754</td>\n",
       "      <td>12.618323</td>\n",
       "      <td>14.201681</td>\n",
       "    </tr>\n",
       "  </tbody>\n",
       "</table>\n",
       "</div>"
      ],
      "text/plain": [
       "                count       mean       std        min        25%        50%  \\\n",
       "type distance                                                                 \n",
       "a02  10          40.0  11.135053  0.183758  10.957167  10.985222  11.006961   \n",
       "     15          40.0  11.060040  0.075912  10.960384  11.002506  11.013171   \n",
       "     20          40.0  11.146083  0.060211  11.082251  11.104744  11.114984   \n",
       "     25          40.0  11.310141  0.075284  11.221001  11.257962  11.267026   \n",
       "     30          38.0  11.617977  0.211514  11.393728  11.439367  11.525093   \n",
       "     35          42.0  11.943609  0.312075  11.591723  11.665973  11.812153   \n",
       "     40          40.0  12.279107  0.477818  11.814059  11.867414  12.049218   \n",
       "     45          40.0  12.510647  0.484570  12.026342  12.093145  12.233095   \n",
       "     50          40.0  12.735058  0.488564  12.181025  12.304147  12.554264   \n",
       "     55          40.0  12.826872  0.514214  11.991040  12.429035  12.753889   \n",
       "     60          40.0  12.953908  0.493585  12.322880  12.492609  12.886077   \n",
       "     65          40.0  13.088464  0.730125  12.140182  12.529029  13.122560   \n",
       "     70          40.0  13.347551  0.664525  12.473717  12.717864  13.293783   \n",
       "     75          40.0  13.259085  0.547688  12.240896  12.760524  13.055768   \n",
       "     80          40.0  13.337493  0.570467  12.621232  12.871500  13.246753   \n",
       "a21  10          80.0  11.074831  0.045322  10.985222  11.044183  11.065113   \n",
       "     15          80.0  11.505818  0.072154  11.292825  11.461454  11.491981   \n",
       "     20          80.0  11.831125  0.156657  11.618778  11.730294  11.788513   \n",
       "     25          80.0  12.043766  0.307961  11.665973  11.843318  11.967198   \n",
       "     30          78.0  12.196790  0.332076  11.726370  11.928910  12.116431   \n",
       "     35          82.0  12.213680  0.292317  11.747488  12.042645  12.132196   \n",
       "     40          80.0  12.172858  0.325410  11.680672  11.915942  12.140182   \n",
       "     45          80.0  12.292896  0.486295  11.685630  11.982517  12.160418   \n",
       "     50          80.0  12.291680  0.387567  11.628002  12.039001  12.219148   \n",
       "     55          80.0  12.253983  0.443080  11.661130  11.937046  12.112555   \n",
       "     60          80.0  12.250624  0.355412  11.705757  11.996262  12.214873   \n",
       "     65          80.0  12.236193  0.401368  11.700680  12.013887  12.144205   \n",
       "     70          80.0  12.427014  0.543930  11.726370  12.046302  12.240896   \n",
       "     75          80.0  12.240859  0.504548  11.637331  11.884352  12.124299   \n",
       "     80          80.0  12.331900  0.499175  11.600640  11.967069  12.249754   \n",
       "\n",
       "                      75%        max  \n",
       "type distance                         \n",
       "a02  10         11.279917  11.552795  \n",
       "     15         11.112290  11.255887  \n",
       "     20         11.171561  11.319696  \n",
       "     25         11.346127  11.511716  \n",
       "     30         11.770654  12.164502  \n",
       "     35         12.185219  12.682763  \n",
       "     40         12.698611  13.505697  \n",
       "     45         12.934532  13.593890  \n",
       "     50         13.126850  13.968254  \n",
       "     55         13.251391  13.968254  \n",
       "     60         13.346602  13.940887  \n",
       "     65         13.422101  15.952381  \n",
       "     70         13.816695  15.102041  \n",
       "     75         13.722781  14.329004  \n",
       "     80         13.593890  14.801921  \n",
       "a21  10         11.096792  11.255887  \n",
       "     15         11.541279  11.814059  \n",
       "     20         11.885903  12.452483  \n",
       "     25         12.114493  13.228410  \n",
       "     30         12.388424  13.341688  \n",
       "     35         12.378483  13.284072  \n",
       "     40         12.363725  13.039514  \n",
       "     45         12.473717  13.968254  \n",
       "     50         12.517454  13.887269  \n",
       "     55         12.473717  13.968254  \n",
       "     60         12.449931  13.265306  \n",
       "     65         12.344330  13.759398  \n",
       "     70         12.689121  14.464286  \n",
       "     75         12.406047  14.499438  \n",
       "     80         12.618323  14.201681  "
      ]
     },
     "execution_count": 119,
     "metadata": {},
     "output_type": "execute_result"
    }
   ],
   "source": [
    "df.groupby(['type','distance '])['calc_range'].describe()"
   ]
  }
 ],
 "metadata": {
  "kernelspec": {
   "display_name": "Python 3",
   "language": "python",
   "name": "python3"
  },
  "language_info": {
   "codemirror_mode": {
    "name": "ipython",
    "version": 3
   },
   "file_extension": ".py",
   "mimetype": "text/x-python",
   "name": "python",
   "nbconvert_exporter": "python",
   "pygments_lexer": "ipython3",
   "version": "3.7.4"
  }
 },
 "nbformat": 4,
 "nbformat_minor": 2
}
